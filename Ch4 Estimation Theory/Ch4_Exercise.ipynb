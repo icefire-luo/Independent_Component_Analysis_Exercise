{
 "cells": [
  {
   "cell_type": "markdown",
   "metadata": {},
   "source": [
    "# Chapter 4: Estimation Theory (Program Exercises)"
   ]
  },
  {
   "cell_type": "markdown",
   "metadata": {},
   "source": [
    "## Program 4.1:\n",
    "\n",
    "Choost a suitable set of two-dimensional data. Plenty of real-world data can be found for example using the links of WWW page of this book, as well as in [376] and at the following Web sits:\n",
    "* http://ferret.wrc.noaa.gov/\n",
    "* http://www.icss.uci.edu/mlearn/MLSummary.html\n",
    "* [376]J. Principe, N. Euliano, and C. Lefebvre. Neural and Adaptive Systems - Fundamentals Through Simulations. Wiley, 2000."
   ]
  },
  {
   "cell_type": "markdown",
   "metadata": {},
   "source": [
    "##### P4.1.1.\n",
    "Plot the data (or part of it, if the data set is large)."
   ]
  },
  {
   "cell_type": "markdown",
   "metadata": {},
   "source": [
    "$-Answer-$:"
   ]
  },
  {
   "cell_type": "markdown",
   "metadata": {},
   "source": [
    "---"
   ]
  },
  {
   "cell_type": "markdown",
   "metadata": {},
   "source": [
    "#### P.4.1.2.\n",
    "Based on the plot, choose a suitable function (which is linear with respect to the parameters), and fit it to your data using the standard least-squares method. (Alternatively, you can use another least-squares method if the parameters of the  chosen function depend nonlinearly on the data.)"
   ]
  },
  {
   "cell_type": "markdown",
   "metadata": {},
   "source": [
    "$-Answer-$:"
   ]
  },
  {
   "cell_type": "markdown",
   "metadata": {},
   "source": [
    "---"
   ]
  },
  {
   "cell_type": "markdown",
   "metadata": {},
   "source": [
    "#### P4.1.3.\n",
    "Plot the fitted curve and the fitting error. Assets the quality of your least-sqaures model."
   ]
  },
  {
   "cell_type": "markdown",
   "metadata": {},
   "source": [
    "$-Answer-$:"
   ]
  },
  {
   "cell_type": "markdown",
   "metadata": {},
   "source": [
    "---"
   ]
  },
  {
   "cell_type": "markdown",
   "metadata": {},
   "source": [
    "## Program 4.2:\n",
    "\n",
    "\\* Use the Bayesian  linear minimum mean-square estimator for predicting a scalar measurement from other measurements."
   ]
  },
  {
   "cell_type": "markdown",
   "metadata": {},
   "source": [
    "##### P4.2.1.\n",
    "Choose first a suitable data set in which the components of the data vectors are correlated (see the previous computer assignments for finding data)."
   ]
  },
  {
   "cell_type": "markdown",
   "metadata": {},
   "source": [
    "$-Answer-$:"
   ]
  },
  {
   "cell_type": "markdown",
   "metadata": {},
   "source": [
    "---"
   ]
  },
  {
   "cell_type": "markdown",
   "metadata": {},
   "source": [
    "##### P4.2.2.\n",
    "Compute the linear minimum mean-square estimator."
   ]
  },
  {
   "cell_type": "markdown",
   "metadata": {},
   "source": [
    "$-Answer-$:"
   ]
  },
  {
   "cell_type": "markdown",
   "metadata": {},
   "source": [
    "---"
   ]
  },
  {
   "cell_type": "markdown",
   "metadata": {},
   "source": [
    "##### P4.2.3.\n",
    "Compute the variance of the measurement that you have predicted and compare it with your minimum mean-square estimation (prediction) error."
   ]
  },
  {
   "cell_type": "markdown",
   "metadata": {},
   "source": [
    "$-Answer-$:"
   ]
  },
  {
   "cell_type": "markdown",
   "metadata": {},
   "source": [
    "---"
   ]
  },
  {
   "cell_type": "code",
   "execution_count": null,
   "metadata": {},
   "outputs": [],
   "source": []
  }
 ],
 "metadata": {
  "kernelspec": {
   "display_name": "Python 3",
   "language": "python",
   "name": "python3"
  },
  "language_info": {
   "codemirror_mode": {
    "name": "ipython",
    "version": 3
   },
   "file_extension": ".py",
   "mimetype": "text/x-python",
   "name": "python",
   "nbconvert_exporter": "python",
   "pygments_lexer": "ipython3",
   "version": "3.6.10"
  }
 },
 "nbformat": 4,
 "nbformat_minor": 4
}

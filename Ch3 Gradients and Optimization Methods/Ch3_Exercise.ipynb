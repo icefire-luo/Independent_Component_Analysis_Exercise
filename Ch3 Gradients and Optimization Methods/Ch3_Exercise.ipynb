{
 "cells": [
  {
   "cell_type": "markdown",
   "metadata": {},
   "source": [
    "# Chapter 3: Gradients and Optimization Methods (Programing Excercises)"
   ]
  },
  {
   "cell_type": "markdown",
   "metadata": {},
   "source": [
    "## Program 3.1:\n",
    "\n",
    "Create the sample of two-dimensional gaussian data $\\mathbf{x}$ with zereo mean and covariance matrix\n",
    "\n",
    "$$\n",
    "\\begin{pmatrix}\n",
    "    3 & 1 \\\\\n",
    "    1 & 2 \\\\\n",
    "\\end{pmatrix}\n",
    "$$\n",
    "\n",
    "Apaply the stochastic on-line learning rule (3.37), choosing a random inital point $\\mathbf{w}$ and an appropriate learning rate. Try different choices for the learning rate and see how it effects the convergence speed. Then, try to solve the same problem using a batch learning rule by taking the averages on the right-hand side. Compare the computational efforts of the on-line $vs.$ batch learning rules at one step of the iteration, and the number of the steps needed for convergence in both algorithms. (*Note:* The algorithm convergens to the dominant eigenvector of the covariance matrix, which can be solved in closed form)."
   ]
  },
  {
   "cell_type": "code",
   "execution_count": null,
   "metadata": {},
   "outputs": [],
   "source": []
  }
 ],
 "metadata": {
  "kernelspec": {
   "display_name": "Python 3",
   "language": "python",
   "name": "python3"
  },
  "language_info": {
   "codemirror_mode": {
    "name": "ipython",
    "version": 3
   },
   "file_extension": ".py",
   "mimetype": "text/x-python",
   "name": "python",
   "nbconvert_exporter": "python",
   "pygments_lexer": "ipython3",
   "version": "3.6.10"
  }
 },
 "nbformat": 4,
 "nbformat_minor": 4
}

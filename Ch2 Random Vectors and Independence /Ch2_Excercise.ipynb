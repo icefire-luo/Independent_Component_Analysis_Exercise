{
 "cells": [
  {
   "cell_type": "markdown",
   "metadata": {},
   "source": [
    "# Chapter 2: Random Vectors and Independence (Programing Excercises)"
   ]
  },
  {
   "cell_type": "markdown",
   "metadata": {},
   "source": [
    "## Program 2.1\n",
    "\n",
    "Generate samples of a two-dimensional gaussian random vector $x$ having zero mean vector and the covariance matrix\n",
    "\n",
    "$$\n",
    "\\mathbf{C_x} = \\begin{bmatrix}\n",
    "                    4 & -1 \\\\\n",
    "                   -1 &  2 \\\\\n",
    "               \\end{bmatrix}\n",
    "$$\n",
    "\n",
    "Estimate the covariance matrix and compare it with the theoretical one for the following numbers of samples, plotting the smaple vectors in each case."
   ]
  },
  {
   "cell_type": "markdown",
   "metadata": {},
   "source": [
    "##### P2.1.1 \n",
    "K=20."
   ]
  },
  {
   "cell_type": "markdown",
   "metadata": {},
   "source": [
    "$-Answer-$:"
   ]
  },
  {
   "cell_type": "markdown",
   "metadata": {},
   "source": [
    "---\n"
   ]
  },
  {
   "cell_type": "markdown",
   "metadata": {},
   "source": [
    "##### P2.1.2.\n",
    "K = 200."
   ]
  },
  {
   "cell_type": "markdown",
   "metadata": {},
   "source": [
    "$-Answer-$:"
   ]
  },
  {
   "cell_type": "markdown",
   "metadata": {},
   "source": [
    "---\n"
   ]
  },
  {
   "cell_type": "markdown",
   "metadata": {},
   "source": [
    "##### P2.1.3.\n",
    "K = 2000."
   ]
  },
  {
   "cell_type": "markdown",
   "metadata": {},
   "source": [
    "$-Answer-$:"
   ]
  },
  {
   "cell_type": "markdown",
   "metadata": {},
   "source": [
    "---\n"
   ]
  },
  {
   "cell_type": "markdown",
   "metadata": {},
   "source": [
    "## Program 2.2\n",
    "\n",
    "\n",
    "Consider generation of desired Laplacian random variables for simulation purpose."
   ]
  },
  {
   "cell_type": "markdown",
   "metadata": {},
   "source": [
    "##### P2.2.1.\n",
    "Using the probability integral transformation, give a formula for generating samples of a scalar random variable with a desired Laplacian distribution from uniformly distributed samples."
   ]
  },
  {
   "cell_type": "markdown",
   "metadata": {},
   "source": [
    "$-Answer-$:"
   ]
  },
  {
   "cell_type": "markdown",
   "metadata": {},
   "source": [
    "---"
   ]
  },
  {
   "cell_type": "markdown",
   "metadata": {},
   "source": [
    "##### P2.2.2.\n",
    "Extend the preceding procedure so that you get samples of two Laplacian random variables with a desired mean vector and joint covariance matrix. (*Hint*: Use the eigenvector decomposition of the covariance matrix for generating the desired covariance matirx.)"
   ]
  },
  {
   "cell_type": "markdown",
   "metadata": {},
   "source": [
    "$-Answer-$:"
   ]
  },
  {
   "cell_type": "markdown",
   "metadata": {},
   "source": [
    "##### P2.2.3.\n",
    "Use your procedure for generating 200 samples of a two-dimensional Laplacian random variable $\\mathbf{x}$ with a mean vector $\\mathbf{m_x}=(2,-1)^T$ and covariance matrix\n",
    "\n",
    "$$\n",
    "\\mathbf{C_x} = \\begin{bmatrix}\n",
    "                    4 & -1 \\\\\n",
    "                   -1 &  2 \\\\\n",
    "               \\end{bmatrix}\n",
    "$$\n",
    "\n",
    "Plot the generated samples."
   ]
  },
  {
   "cell_type": "markdown",
   "metadata": {},
   "source": [
    "$-Answer-$:"
   ]
  },
  {
   "cell_type": "markdown",
   "metadata": {},
   "source": [
    "---"
   ]
  },
  {
   "cell_type": "markdown",
   "metadata": {},
   "source": [
    "## Program 2.3\n",
    "\n",
    "\\* Consider the second-order autoregressive model described by the difference equation\n",
    "\n",
    "$$\n",
    "x(n) + a_1 x(n-1) + a_2 x(n-2) = v(n)\n",
    "$$\n",
    "\n",
    "Here $x(n)$ is the value of the process at time $n$, and $v(n)$ is zero mean white gaussian noise with variance $\\sigma_v^2$ that \"drives\" the AR process. Geenrate 200 samples of the process using the initial values $x(0)=x(-1)=0$ and the following coefficient values.\n",
    "Plot the resulting AR process in each case."
   ]
  },
  {
   "cell_type": "markdown",
   "metadata": {},
   "source": [
    "##### P2.3.1.\n",
    "$a_1 = -0.1$ and $a_2=-0.8$"
   ]
  },
  {
   "cell_type": "markdown",
   "metadata": {},
   "source": [
    "$-Answer-$:"
   ]
  },
  {
   "cell_type": "markdown",
   "metadata": {},
   "source": [
    "---"
   ]
  },
  {
   "cell_type": "markdown",
   "metadata": {},
   "source": [
    "##### P2.3.2.\n",
    "$a_1 = 0.1$ and $a_2=-0.8$"
   ]
  },
  {
   "cell_type": "markdown",
   "metadata": {},
   "source": [
    "$-Answer-$:"
   ]
  },
  {
   "cell_type": "markdown",
   "metadata": {},
   "source": [
    "---\n"
   ]
  },
  {
   "cell_type": "markdown",
   "metadata": {},
   "source": [
    "##### P2.3.3.\n",
    "$a_1 = -0.975$ and $a_2=-1.0$"
   ]
  },
  {
   "cell_type": "markdown",
   "metadata": {},
   "source": [
    "$-Answer-$:"
   ]
  },
  {
   "cell_type": "markdown",
   "metadata": {},
   "source": [
    "---"
   ]
  },
  {
   "cell_type": "markdown",
   "metadata": {},
   "source": [
    "##### P2.3.4.\n",
    "$a_1 =0.1 $ and $a_2=-1.0$"
   ]
  },
  {
   "cell_type": "markdown",
   "metadata": {},
   "source": [
    "$-Answer-$:"
   ]
  },
  {
   "cell_type": "markdown",
   "metadata": {},
   "source": [
    "---"
   ]
  },
  {
   "cell_type": "code",
   "execution_count": null,
   "metadata": {},
   "outputs": [],
   "source": []
  }
 ],
 "metadata": {
  "kernelspec": {
   "display_name": "Python 3",
   "language": "python",
   "name": "python3"
  },
  "language_info": {
   "codemirror_mode": {
    "name": "ipython",
    "version": 3
   },
   "file_extension": ".py",
   "mimetype": "text/x-python",
   "name": "python",
   "nbconvert_exporter": "python",
   "pygments_lexer": "ipython3",
   "version": "3.6.10"
  }
 },
 "nbformat": 4,
 "nbformat_minor": 4
}

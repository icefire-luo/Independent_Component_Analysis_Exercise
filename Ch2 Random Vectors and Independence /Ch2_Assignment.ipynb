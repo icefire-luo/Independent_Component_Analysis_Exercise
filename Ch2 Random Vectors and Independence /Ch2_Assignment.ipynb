{
 "cells": [
  {
   "cell_type": "markdown",
   "metadata": {},
   "source": [
    "# Chapter 2: Random Vectors and Independence (Assignments)\n",
    "\n"
   ]
  },
  {
   "cell_type": "markdown",
   "metadata": {},
   "source": [
    "## Question 2.1:\n",
    "Derive rule for computing the value of the cdf of the single variable guassian (2.4) from the known tabulated values of the error function (2.5)"
   ]
  },
  {
   "cell_type": "markdown",
   "metadata": {},
   "source": [
    "*-Reference-*:\n",
    "\n",
    "The cdf is computedfrom the known pdf by equation (2.3)\n",
    "$$\n",
    "F_x(x_0) = \\int_{-\\infty}^{x_0}p_x(\\xi)d\\xi\n",
    "$$\n",
    "Gaussian pdf equation of (2.4)\n",
    "$$\n",
    "p_x(x) = \\frac{1}{\\sqrt{2\\pi\\sigma^2}}exp\\left(-\\frac{(x-m)^2}{2\\sigma^2}\\right)\n",
    "$$\n",
    "Gaussian cdf cannot be evaluated in close form using (2.3). However, the values of the cdf can be computed numerically using tabulated values of the error function (2.5)\n",
    "$$\n",
    "erf(x) = \\frac{1}{\\sqrt{2\\pi}}\\int_0^x exp\\left(-\\frac{\\xi^2}{2}\\right)d\\xi \n",
    "$$\n"
   ]
  },
  {
   "cell_type": "markdown",
   "metadata": {},
   "source": [
    "$-Answer-:$\n"
   ]
  },
  {
   "cell_type": "markdown",
   "metadata": {},
   "source": [
    "---"
   ]
  },
  {
   "cell_type": "markdown",
   "metadata": {},
   "source": [
    "## Question 2.2:\n",
    "\n",
    "Let $x_1,x_2,x,...,x_K$ be independent, identically distributed samples from a distribution having a cumulative density functon $F_x(x)$. Denoted by $y_1,y_2,...,y_K$.\n"
   ]
  },
  {
   "cell_type": "markdown",
   "metadata": {},
   "source": [
    "##### Q2.2.1. \n",
    "Show that the cdf and pdf of $y_k = max\\{x_1,...,x_K\\}$ are\n",
    "$$\n",
    "F_{y_k}(y_k) = [F_x(y_k)]^K\n",
    "$$\n",
    "$$\n",
    "p_{y_k}(y_K) = K[F_x(y_k)]^{K-1}p_x(y_k)\n",
    "$$"
   ]
  },
  {
   "cell_type": "markdown",
   "metadata": {},
   "source": [
    "$-Answer-:$\n"
   ]
  },
  {
   "cell_type": "markdown",
   "metadata": {},
   "source": [
    "##### Q2.2.2.\n",
    "Derive the respective expressions fro the cdf and pdf of the random variable $y_1 = min\\{x_1,...,x_K\\}$"
   ]
  },
  {
   "cell_type": "markdown",
   "metadata": {},
   "source": [
    "$-Answer-:$\n"
   ]
  },
  {
   "cell_type": "markdown",
   "metadata": {},
   "source": [
    "----"
   ]
  },
  {
   "cell_type": "markdown",
   "metadata": {},
   "source": [
    "## Question 2.3\n",
    "A two-dimensional random vector $x=(x_1,x_2)^T$ has the probability density function\n",
    "$$ p_x(x) = \n",
    "            \\begin{cases} \n",
    "                \\frac{1}{2} (x_1+3x_2) & \\quad x_1,x_2\\in[0,1]\\\\ \n",
    "                0 & \\quad \\text{elsewhere}\n",
    "             \\end{cases}  \n",
    "$$"
   ]
  },
  {
   "cell_type": "markdown",
   "metadata": {},
   "source": [
    "##### Q2.3.1. \n",
    "Show that this probability density is appropriately normalized."
   ]
  },
  {
   "cell_type": "markdown",
   "metadata": {},
   "source": [
    "$-Answer-:$\n"
   ]
  },
  {
   "cell_type": "markdown",
   "metadata": {},
   "source": [
    "##### Q2.3.2.\n",
    "Compute the cdf of the random venctor $x$\n"
   ]
  },
  {
   "cell_type": "markdown",
   "metadata": {},
   "source": [
    "$-Answer-:$\n",
    "    "
   ]
  },
  {
   "cell_type": "markdown",
   "metadata": {},
   "source": [
    "##### Q2.3.3.\n",
    "Compute the marginal distributions $p_{x_1}(x_1)$ and  $p_{x_2}(x_2)$"
   ]
  },
  {
   "cell_type": "markdown",
   "metadata": {},
   "source": [
    "$-Answer-:$\n"
   ]
  },
  {
   "cell_type": "markdown",
   "metadata": {},
   "source": [
    "----"
   ]
  },
  {
   "cell_type": "markdown",
   "metadata": {},
   "source": [
    "## Question 2.4\n",
    "\n",
    "Compute the mean, second moment, and variance of a random variable distributed uniformly in the interval $[a,b], (b>a)$"
   ]
  },
  {
   "cell_type": "markdown",
   "metadata": {},
   "source": [
    "$-Answer-:$\n"
   ]
  },
  {
   "cell_type": "markdown",
   "metadata": {},
   "source": [
    "---"
   ]
  },
  {
   "cell_type": "markdown",
   "metadata": {},
   "source": [
    "## Question 2.5\n",
    "\n",
    "Prove that expectations satisfy the linearity property (2.16)\n",
    "$$\n",
    "E \\{ \\sum_{i=1}^{m}a_ix_i \\} = \\sum_{i=1}^{m} a_iE\\{x_i\\}\n",
    "$$"
   ]
  },
  {
   "cell_type": "markdown",
   "metadata": {},
   "source": [
    "$-Answer-:$\n"
   ]
  },
  {
   "cell_type": "markdown",
   "metadata": {},
   "source": [
    "---"
   ]
  },
  {
   "cell_type": "markdown",
   "metadata": {},
   "source": [
    "## Question 2.6\n",
    "\n",
    "Consider n scalar random variables $x_i,i=1,2,3...,n$, having, respectively, the variance $\\sigma_{x_i}^2$. Show that if the random variables $x_i$ are mutually uncorrelated, the variance $\\sigma_y^2$ of their sum $y=\\sum_{i=1}^n x_i$ equals the sum of the variances of the $x_i$.\n",
    "\n",
    "$$\n",
    "\\sigma_y^2 = \\sum_{i=2}^n \\sigma_{x_i}^2\n",
    "$$"
   ]
  },
  {
   "cell_type": "markdown",
   "metadata": {},
   "source": [
    "$-Answer-$:\n"
   ]
  },
  {
   "cell_type": "markdown",
   "metadata": {},
   "source": [
    "---"
   ]
  },
  {
   "cell_type": "markdown",
   "metadata": {},
   "source": [
    "## Question 2.7\n",
    "\n",
    "Assume that $x_i$ and $x_2$ are zero-mean, correlated random variables. Any orthogonal transformation of $x_i$ and $x_2$ can be represeneted in the form\n",
    "\n",
    "$$\n",
    "y_1 = cos(\\alpha)x_1 + sin(\\alpha)x_2\n",
    "$$\n",
    "$$\n",
    "y_2 = -sin(\\alpha)x_1 + cos(\\alpha)x_2\n",
    "$$\n",
    "\n",
    "where the parameter $\\alpha$ defines the rotation angle of coordinated axes. Let $E\\{x_1^2\\}= \\sigma_1^2$, $E\\{x_2^2\\}= \\sigma_2^2$, and $E\\{x_1x_2\\}= \\rho\\sigma_1\\sigma_2$. Find the angle $\\alpha$ for which $y_1$ and $y_2$ become uncorrelated."
   ]
  },
  {
   "cell_type": "markdown",
   "metadata": {},
   "source": [
    "$-Answer-$:\n"
   ]
  },
  {
   "cell_type": "markdown",
   "metadata": {},
   "source": [
    "---"
   ]
  },
  {
   "cell_type": "markdown",
   "metadata": {},
   "source": [
    "## Question 2.8\n",
    "\n",
    "Consider the joint probability density of random vectors $\\mathbf{x} = (x_1,x_2)^T$ and $\\mathbf{y}=y$ deiscussed in Example 2.6\n",
    "\n",
    "$$\n",
    "p_{\\mathbf{x,y}}(\\mathbf{x,y}) = \n",
    "   \\begin{cases}\n",
    "       (x_1 + 3x_2)y & \\quad x_1,x_2 \\in [0,1], y \\in [0,1] \\\\\n",
    "       0 & \\quad \\text{elsewhere}\n",
    "    \\end{cases}\n",
    "$$\n"
   ]
  },
  {
   "cell_type": "markdown",
   "metadata": {},
   "source": [
    "##### Q2.8.1.\n",
    "Compute the marginal distributions $p_\\mathbf{x}(\\mathbf{x})$, $p_\\mathbf{y}(\\mathbf{y})$, $p_{x_1}(x_1)$, and $p_{x_2}(x_2)$."
   ]
  },
  {
   "cell_type": "markdown",
   "metadata": {},
   "source": [
    "$-Answer-$:"
   ]
  },
  {
   "cell_type": "markdown",
   "metadata": {},
   "source": [
    "##### Q2.8.2\n",
    "Vefify that the claims made on the independence of $x_1$, $x_2$ and $y$ in Example 2.6 hold"
   ]
  },
  {
   "cell_type": "markdown",
   "metadata": {},
   "source": [
    "$-Answer-$:\n"
   ]
  },
  {
   "cell_type": "markdown",
   "metadata": {},
   "source": [
    "---"
   ]
  },
  {
   "cell_type": "markdown",
   "metadata": {},
   "source": [
    "## Question 2.9\n",
    "\n",
    "Which conditions should the elements of matrix\n",
    "\n",
    "$$\n",
    "\\mathbf{R} = \\begin{bmatrix}\n",
    "                a & b \\\\\n",
    "                c & d\n",
    "             \\end{bmatrix}\n",
    "$$\n",
    "\n",
    "satisfy so that $\\mathbf{R}$ could be valid autocorrelation matrix of "
   ]
  },
  {
   "cell_type": "markdown",
   "metadata": {},
   "source": [
    "##### Q2.9.1.\n",
    "A two-dimensional random vector?"
   ]
  },
  {
   "cell_type": "markdown",
   "metadata": {},
   "source": [
    "$-Answer-$:\n"
   ]
  },
  {
   "cell_type": "markdown",
   "metadata": {},
   "source": [
    "##### Q2.9.2\n",
    "A stationary scalar-valued stochastic process?"
   ]
  },
  {
   "cell_type": "markdown",
   "metadata": {},
   "source": [
    "$-Answer-$:\n"
   ]
  },
  {
   "cell_type": "markdown",
   "metadata": {},
   "source": [
    "---"
   ]
  },
  {
   "cell_type": "markdown",
   "metadata": {},
   "source": [
    "## Question 2.10\n",
    "\n",
    "Show that correlation and covariance matrices satisfy relationships (2.26) and (2.32)"
   ]
  },
  {
   "cell_type": "markdown",
   "metadata": {},
   "source": [
    "*-Reference-*\n",
    "\n",
    "The covariance matrix $\\mathbf{C_x}$ satisfies the same properties as the correlation matrix $\\mathbf{R_x}$. Using the properties of expectation operator, it is easy to see that (2.26)\n",
    "\n",
    "$$\n",
    "\\mathbf{C_x} = \\mathbf{R_x} + \\mathbf{m_xm_x^T}\n",
    "$$\n",
    "\n",
    "If the mean vectors of $\\mathbf{x}$ and $\\mathbf{y}$ are zero, the cross-correlatoin and cross-vovariance matrices become the same. The covariance matrix $\\mathbf{C_{x+y}}$ of the sum of two random vectors $\\mathbf{x}$ and $\\mathbf{y}$ having the same dimension is often needed in practice. It is eay to se that (2.32)\n",
    "\n",
    "$$\n",
    "\\mathbf{C_{x+y}} = \\mathbf{C_x} + \\mathbf{C_{xy}} + \\mathbf{C_{yx}} + \\mathbf{C_y}\n",
    "$$"
   ]
  },
  {
   "cell_type": "markdown",
   "metadata": {},
   "source": [
    "$-Answer-$:\n"
   ]
  },
  {
   "cell_type": "markdown",
   "metadata": {},
   "source": [
    "---"
   ]
  },
  {
   "cell_type": "markdown",
   "metadata": {},
   "source": [
    "## Question 2.11\n",
    "\n",
    "Work out Example 2.5 for the covariance matrix $\\mathbf{C_x}$ of $\\mathbf{x}$, showing that similar results are obtained. Are the assumptions required the same?"
   ]
  },
  {
   "cell_type": "markdown",
   "metadata": {},
   "source": [
    "*-Reference-*:\n",
    "\n",
    "Example 2.5\n",
    "Consider the linear signal model $(2.47)$\n",
    "$$\n",
    "\\mathbf{x} = \\mathbf{As} + \\mathbf{n}\n",
    "$$\n",
    "\n",
    "where $\\mathbf{x}$ is an $n$-dimensional random or data vector, $\\mathbf{A}$ an $n$ x $m$ constant matrix, $\\mathbf{s}$ an $m$-dimensional random signal vector, and $\\mathbf{n}$ an $n$-dimensional random vector that usually describes additive noise. The correlation matrix of $\\mathbf{x}$ then becomes $(2.48)$\n",
    "\n",
    "$$\n",
    "  \\mathbf{R_x} =\\\\\n",
    "  \\quad\\quad = E\\{\\mathbf{xx^T}\\} = E\\{(\\mathbf{As}+\\mathbf{n})(\\mathbf{As}+\\mathbf{n})^T\\} \\\\            \n",
    "  \\quad\\quad = E\\{\\mathbf{Ass}^T\\mathbf{A}^T\\} + E\\{\\mathbf{Asn}^T\\} + E\\{\\mathbf{ns}^T\\mathbf{A}^T\\} + E\\{\\mathbf{nn}^T\\} \\\\\n",
    "   \\quad\\quad = \\mathbf{A}E\\{\\mathbf{ss}^T\\}\\mathbf{A}^T + \\mathbf{A}E\\{\\mathbf{sn}^T\\} + E\\{\\mathbf{ns}^T\\}\\mathbf{A}^T + E\\{\\mathbf{nn}^T\\} \\\\\n",
    "   \\quad\\quad = \\mathbf{A}\\mathbf{R_n}\\mathbf{A}^T + \\mathbf{A}\\mathbf{R_{sn}} + \\mathbf{R_{ns}}^T\\mathbf{A}^T + \\mathbf{R_n} \\quad \\\\\n",
    "$$\n",
    "\n",
    "Usually the noise vector $\\mathbf{n}$ is assumed to have zero mean, and to be uncorrelated with the signal vector $\\mathbf{s}$. Then the cross-correlation matrix between the signal and noise vectors vanishes: $(2.49)$\n",
    "\n",
    "$$\n",
    "\\mathbf{R_{sn}} = E\\{\\mathbf{sn}^T\\} = E\\{\\mathbf{s}\\}E\\{\\mathbf{n}^T\\} = 0\n",
    "$$\n",
    "\n",
    "Similarly, $\\mathbf{R_ns}=0$, and the correlation matrix of $x$ simplifies to $(2.50)$\n",
    "\n",
    "$$\n",
    "\\mathbf{R_x} = \\mathbf{AR_sA}^T + \\mathbf{R_n}\n",
    "$$\n",
    "\n",
    "   Another offen made assumption is that the noise is white, which means here that the componets of the noise vector $\\mathbf{n}$ are all uncorrelated and have equal variance $\\mathbf{\\sigma^2}$, so that in $(2.51)$\n",
    "\n",
    "$$\n",
    "\\mathbf{R_n} = \\sigma^2\\mathbf{I}\n",
    "$$\n",
    "\n",
    "   Sometimes, for example in an noisy version of the ICA model (Chapter 15), the components of the signal vector a are also mutually uncorrelated, so that the signal correlation matrix becomes the diagonal matrix ${2.52}$\n",
    " \n",
    "$$\n",
    "\\mathbf{D_n} = diag(E{s_1^2},E{s_2^2},...,E{s_m^2})\n",
    "$$\n",
    " \n",
    "where, $s_1,s_2,...,s_m$ are components of the signal vector $s$. Then $(2.50)$ can be written in th e form $(2.53)$\n",
    " \n",
    "$$\n",
    "\\mathbf{R_x} = \\mathbf{AD_sA}^T + \\sigma^2\\mathbf{I} = \\sum_{i=1}^{m}E\\{s_i^2\\}\\mathbf{a}_i\\mathbf{a}_i^T + \\sigma^2\\mathbf{I}\n",
    " $$\n",
    " \n",
    "where $\\mathbf{a}_i$ is the $i$the column vector of the matrix $\\mathbf{A}$.\n",
    " \n",
    "  The noisy linear signal or data model $(2.46)$ is encountered frequently in signal processing and other areas, and the assumpltions made on $\\mathbf{s}$ and $\\mathbf{n}$ vary depending on the problem at hand. It is straightforward to see that the results derived in this example hold for the respective covariance matrices as well. "
   ]
  },
  {
   "cell_type": "markdown",
   "metadata": {},
   "source": [
    "$-Answer-$:\n"
   ]
  },
  {
   "cell_type": "markdown",
   "metadata": {},
   "source": [
    "---"
   ]
  },
  {
   "cell_type": "markdown",
   "metadata": {},
   "source": [
    "## Question 2.12\n",
    "\n",
    "Assume that the inverse $\\mathbf{R_x^{-1}}$ of the correlation matrix of the $n$-dimensional column random vector $\\mathbf{x}$ exists. Show that\n",
    "\n",
    "$$\n",
    "E\\{\\mathbf{x}^T\\mathbf{R_x}^{-1}\\mathbf{x}\\} = n\n",
    "$$"
   ]
  },
  {
   "cell_type": "markdown",
   "metadata": {},
   "source": [
    "$-Answer-$:"
   ]
  },
  {
   "cell_type": "markdown",
   "metadata": {},
   "source": [
    "---"
   ]
  },
  {
   "cell_type": "markdown",
   "metadata": {},
   "source": [
    "## Question 2.13\n",
    "\n",
    "Consider a two-dimensional gaussion random vector $\\mathbf{x}$ with mean vector $\\mathbf{m_x} = (2,1)^T$ and covariance matrix\n",
    "\n",
    "$$\n",
    "\\mathbf{C_x} = \\begin{bmatrix}\n",
    "                2 & -1 \\\\\n",
    "               -1 & 2\n",
    "               \\end{bmatrix}\n",
    "$$"
   ]
  },
  {
   "cell_type": "markdown",
   "metadata": {},
   "source": [
    "##### Q2.13.1.\n",
    "Find the eigenvalues and eigenvectors of $\\mathbf{C_x}$.\n"
   ]
  },
  {
   "cell_type": "markdown",
   "metadata": {},
   "source": [
    "$-Answer-$:"
   ]
  },
  {
   "attachments": {
    "image.png": {
     "image/png": "[encoded data removed]"
    }
   },
   "cell_type": "markdown",
   "metadata": {},
   "source": [
    "##### Q2.13.2\n",
    "Draw a contour plot of the gaussian density similar to Figure 2.7.\n",
    "![image.png](attachment:image.png)"
   ]
  },
  {
   "cell_type": "markdown",
   "metadata": {},
   "source": [
    "$-Answer-$:"
   ]
  },
  {
   "cell_type": "markdown",
   "metadata": {},
   "source": [
    "---"
   ]
  },
  {
   "cell_type": "markdown",
   "metadata": {},
   "source": [
    "## Question 2.14\n",
    "\n",
    "Repeat the previous problem for a gaussian random vector $\\mathbf{x}$ that has the mean vector $\\mathbf{m_x} = (-2,3)^T$ and covariance matrix\n",
    "\n",
    "$$\n",
    "\\mathbf{C_x} = \\begin{bmatrix}\n",
    "                2 & -2 \\\\\n",
    "               -2 &  5\n",
    "               \\end{bmatrix}\n",
    "$$"
   ]
  },
  {
   "cell_type": "markdown",
   "metadata": {},
   "source": [
    "$-Answer-$:\n"
   ]
  },
  {
   "cell_type": "markdown",
   "metadata": {},
   "source": [
    "---"
   ]
  },
  {
   "cell_type": "markdown",
   "metadata": {},
   "source": [
    "## Question 2.15\n",
    "\n",
    "Assume that random variables $x$ and $y$ are linear combinations of two uncorrelated guassian random variables $u$ and $v$, defined by\n",
    "\n",
    "$$\n",
    "x = 3u -4v \\\\\n",
    "y = 2u +v\n",
    "$$\n",
    "\n",
    "Assume that the mean values and variances of both $u$ and $v$ equal 1.\n"
   ]
  },
  {
   "cell_type": "markdown",
   "metadata": {},
   "source": [
    "##### Q2.15.1 .\n",
    "Determine the mean vlaues of $x$ and $y$."
   ]
  },
  {
   "cell_type": "markdown",
   "metadata": {},
   "source": [
    "$-Answer-$:\n"
   ]
  },
  {
   "cell_type": "markdown",
   "metadata": {},
   "source": [
    "##### Q2.15.2.\n",
    "Find the variances of $x$ and $y$."
   ]
  },
  {
   "cell_type": "markdown",
   "metadata": {},
   "source": [
    "$-Answer-$:"
   ]
  },
  {
   "cell_type": "markdown",
   "metadata": {},
   "source": [
    "##### Q2.15.3.\n",
    "Form the joint density function of $x$ and $y$."
   ]
  },
  {
   "cell_type": "markdown",
   "metadata": {},
   "source": [
    "$-Answer-$:"
   ]
  },
  {
   "cell_type": "markdown",
   "metadata": {},
   "source": [
    "##### Q2.15.4.\n",
    "Find the conditional density of $y$ given $x$."
   ]
  },
  {
   "cell_type": "markdown",
   "metadata": {},
   "source": [
    "$-Answer-$:"
   ]
  },
  {
   "cell_type": "markdown",
   "metadata": {},
   "source": [
    "---"
   ]
  },
  {
   "cell_type": "markdown",
   "metadata": {},
   "source": [
    "## Question 2.16\n",
    "\n",
    "Show that the skewness of a random variable having a symmetric pdf is zero."
   ]
  },
  {
   "cell_type": "markdown",
   "metadata": {},
   "source": [
    "$-Answer-$:"
   ]
  },
  {
   "cell_type": "markdown",
   "metadata": {},
   "source": [
    "---"
   ]
  },
  {
   "cell_type": "markdown",
   "metadata": {},
   "source": [
    "## Question 2.17\n",
    "\n",
    "Show that the kutosis of a gaussian random variable is zero."
   ]
  },
  {
   "cell_type": "markdown",
   "metadata": {},
   "source": [
    "$-Answer-$:"
   ]
  },
  {
   "cell_type": "markdown",
   "metadata": {},
   "source": [
    "---"
   ]
  },
  {
   "cell_type": "markdown",
   "metadata": {},
   "source": [
    "## Question 2.18\n",
    "\n",
    "Show that random variables having"
   ]
  },
  {
   "cell_type": "markdown",
   "metadata": {},
   "source": [
    "##### Q2.18.1.\n",
    "A uniform distribution in the interval $[-a,a], a>0$, are subgaussian."
   ]
  },
  {
   "cell_type": "markdown",
   "metadata": {},
   "source": [
    "$-Answer-$:"
   ]
  },
  {
   "cell_type": "markdown",
   "metadata": {},
   "source": [
    "##### Q2.18.2.\n",
    "A Laplacian distribution are superguaussian."
   ]
  },
  {
   "cell_type": "markdown",
   "metadata": {},
   "source": [
    "$-Answer-$:"
   ]
  },
  {
   "cell_type": "markdown",
   "metadata": {},
   "source": [
    "---"
   ]
  },
  {
   "cell_type": "markdown",
   "metadata": {},
   "source": [
    "## Question 2.19\n",
    "\n",
    "The exponential density has the pdf\n",
    "\n",
    "$$\n",
    "p_x(x) = \\begin{cases}\n",
    "            \\beta exp(-\\beta x) & \\quad x\\geq 0 \\\\\n",
    "            0 & \\quad x < 0\n",
    "         \\end{cases}\n",
    "$$\n",
    "\n",
    "where $\\beta$ is a positive constant."
   ]
  },
  {
   "cell_type": "markdown",
   "metadata": {},
   "source": [
    "##### Q2.19.1.\n",
    "Compute the first characteristic function of the exponential distribution."
   ]
  },
  {
   "cell_type": "markdown",
   "metadata": {},
   "source": [
    "$-Answer-$:"
   ]
  },
  {
   "cell_type": "markdown",
   "metadata": {},
   "source": [
    "##### Q2.19.2.\n",
    "Using the characteristic function, determine the moments of exponential density."
   ]
  },
  {
   "cell_type": "markdown",
   "metadata": {},
   "source": [
    "$-Answer-$:"
   ]
  },
  {
   "cell_type": "markdown",
   "metadata": {},
   "source": [
    "---"
   ]
  },
  {
   "cell_type": "markdown",
   "metadata": {},
   "source": [
    "## Question 2.20\n",
    "\n",
    "A scalar random variable $x$ has a gamma distribution if its pdf is given by\n",
    "\n",
    "$$\n",
    "p_x(x) = \\begin{cases}\n",
    "            \\gamma x^{b-1}exp(-cx) & \\quad x\\geq 0 \\\\\n",
    "            0 & \\quad x < 0\n",
    "         \\end{cases}\n",
    "$$\n",
    "\n",
    "where $b$ and $c$ are positive numbers and the parameter\n",
    "\n",
    "$$\n",
    "\\gamma = \\frac {c^b}{\\Gamma (b)}\n",
    "$$\n",
    "\n",
    "is defined by the gamma function\n",
    "\n",
    "$$\n",
    "\\Gamma (b+1) = \\int_0^\\infty y^bexp(-y)dy, \\quad b > -1\n",
    "$$\n",
    "\n",
    "The gamma function satisfies the generalized factorial condition $\\Gamma(b+1)=b\\Gamma(b)$. For integer values, this becomes $\\Gamma(n+1) = n!$.\n"
   ]
  },
  {
   "cell_type": "markdown",
   "metadata": {},
   "source": [
    "##### Q2.20.1.\n",
    "Show that if $b=1$, the gamma distribution reduces to the standard exponential density.\n"
   ]
  },
  {
   "cell_type": "markdown",
   "metadata": {},
   "source": [
    "$-Answer-$:"
   ]
  },
  {
   "cell_type": "markdown",
   "metadata": {},
   "source": [
    "##### Q2.20.2.\n",
    "Show that the first charactoeristic function of a gamma distributed random variable is \n",
    "\n",
    "$$\n",
    "\\varphi(\\omega) = \\frac {c^b} {(c-j\\omega)^b}\n",
    "$$"
   ]
  },
  {
   "cell_type": "markdown",
   "metadata": {},
   "source": [
    "$-Answer-$:"
   ]
  },
  {
   "cell_type": "markdown",
   "metadata": {},
   "source": [
    "##### Q2.30.3.\n",
    "Using the previous result, determin the mean, second moment, and variance of the gamma distribution."
   ]
  },
  {
   "cell_type": "markdown",
   "metadata": {},
   "source": [
    "$-Answer-$:"
   ]
  },
  {
   "cell_type": "markdown",
   "metadata": {},
   "source": [
    "---"
   ]
  },
  {
   "cell_type": "markdown",
   "metadata": {},
   "source": [
    "## Question 2.21\n",
    "\n",
    "Let $\\kappa_k(x)$ and $\\kappa_k(y)$ be the $k$th-order cumulants of the scalar random variables $x$ and $y$, respectively."
   ]
  },
  {
   "cell_type": "markdown",
   "metadata": {},
   "source": [
    "##### Q2.21.1.\n",
    "Show that if $x$ and $y$ are independent, then\n",
    "\n",
    "$$\n",
    "\\kappa_k(x+y) = \\kappa_k(x) + \\kappa_k(y)\n",
    "$$"
   ]
  },
  {
   "cell_type": "markdown",
   "metadata": {},
   "source": [
    "$-Answer-$:"
   ]
  },
  {
   "cell_type": "markdown",
   "metadata": {},
   "source": [
    "##### Q2.21.2.\n",
    "Show that $\\kappa_k(\\beta x) = \\beta^k\\kappa_k(x)$, where $\\beta$ is a constant."
   ]
  },
  {
   "cell_type": "markdown",
   "metadata": {},
   "source": [
    "$-Answer-$:"
   ]
  },
  {
   "cell_type": "markdown",
   "metadata": {},
   "source": [
    "---"
   ]
  },
  {
   "cell_type": "markdown",
   "metadata": {},
   "source": [
    "## Question 2.22 \n",
    "\n",
    "\\* Show that the power spectrum $S_x(\\omega)$ is a real-valued, even, and periodic function of the angular frequency $\\omega$."
   ]
  },
  {
   "cell_type": "markdown",
   "metadata": {},
   "source": [
    "$-Answer-$:"
   ]
  },
  {
   "cell_type": "markdown",
   "metadata": {},
   "source": [
    "---"
   ]
  },
  {
   "cell_type": "markdown",
   "metadata": {},
   "source": [
    "## Question 2.23\n",
    "\n",
    "\\* Consider the stochastic process\n",
    "\n",
    "$$\n",
    "y(n) = x(n+k) - x(n-k)\n",
    "$$\n",
    "\n",
    "where $k$ is a constant integer and $x(n)$ is a zero mean, wide-sense stationary stochastic process. Let the power spectrum of $x(n)$ be $S_x(\\omega)$ and its autocorrelation sequence $r_x(0),r_x(1),...$."
   ]
  },
  {
   "cell_type": "markdown",
   "metadata": {},
   "source": [
    "##### Q2.23.1.\n",
    "Determine the autocorrelation sequence $r_y(m)$ of the process $y(n)$."
   ]
  },
  {
   "cell_type": "markdown",
   "metadata": {},
   "source": [
    "$-Answer-$:\n"
   ]
  },
  {
   "cell_type": "markdown",
   "metadata": {},
   "source": [
    "##### Q2.23.2.\n",
    "Show that the power spectrum of $y(n)$ is \n",
    "\n",
    "$$\n",
    "S_y(\\omega) = 4S_x(\\omega)sin^2(k\\omega)\n",
    "$$"
   ]
  },
  {
   "cell_type": "markdown",
   "metadata": {},
   "source": [
    "$-Answer-$:\n"
   ]
  },
  {
   "cell_type": "markdown",
   "metadata": {},
   "source": [
    "---"
   ]
  },
  {
   "cell_type": "markdown",
   "metadata": {},
   "source": [
    "## Question 2.24\n",
    "\n",
    "\\* Consider the autoregressive process $(2.126)$"
   ]
  },
  {
   "cell_type": "markdown",
   "metadata": {},
   "source": [
    "*-Reference-*\n",
    "Stochastic processes or time series are frequently modeled in terms of *autoregressive (AR) proceess*. They are defined by the difference equation $(2.126)$\n",
    "\n",
    "$$\n",
    "x(n) = -\\sum_{i=1}^{M}a_ix(n-i) + v(n)\n",
    "$$\n",
    "\n",
    "where $v(n)$ is a white nosie process, and $a_1,...,a_M$ are constant cefficients (parameters) of the AR model. The model order $M$ gives the number of previous samples on which the current value $x(n)$ of the AR proess depends. The noise term $v(n)$ introduces randomness into the model; without it the AR model would be completedly deterministic. The coefficients $a_1,...,a_M$ of the AR model can be computed using linear techniques from autocorrelation values estimated from the variable data \\[419,241,169\\]. Since the AR models describe fairly well many natural stochastic processes, for example, speech signals, they are used in many applications. In ICA and BSS, they can be used to model the time correlations in each source process $s_i(t)$. This sometimes improves greatly the performance of the algorithms."
   ]
  },
  {
   "cell_type": "markdown",
   "metadata": {},
   "source": [
    "##### Q2.24.1.\n",
    "Show that the autocorrelation function of the AR process satisfies the difference euqation\n",
    "\n",
    "$$\n",
    "r_x(l) = - \\sum_{i=1}^{M}a_ir_x(l-i), \\quad l>0\n",
    "$$"
   ]
  },
  {
   "cell_type": "markdown",
   "metadata": {},
   "source": [
    "$-Answer-$:\n"
   ]
  },
  {
   "cell_type": "markdown",
   "metadata": {},
   "source": [
    "##### Q2.24.2.\n",
    "Using this result, show that the AR coefficients $a_i$ can be determined from the Yule-Walker equations\n",
    "\n",
    "$$\n",
    "\\mathbf{R_xa} = -\\mathbf{r_x}\n",
    "$$\n",
    "\n",
    "Here the autocorrelation matrix $\\mathbf{R_x}$ define in $(2.119)$ has the value $m=M-1$, that vector\n",
    "\n",
    "$$\n",
    "\\mathbf{r_x} = [r_x(1), r_x(2),...,r_x(M)]^T\n",
    "$$\n",
    "\n",
    "and the coefficient vector\n",
    "\n",
    "$$\n",
    "\\mathbf{a} = [ a_1, a_2,...,a_M]^T\n",
    "$$"
   ]
  },
  {
   "cell_type": "markdown",
   "metadata": {},
   "source": [
    "*-Reference-*\n",
    "\n",
    "Assuming that the values of the autocorrelation function $r_x(0),r_x(1),...,r_x(m)$ are knoen up to a lag of $m$ samples, the $(m+1) \\times (m+1)$ correlation (or vovaiance) matrix of the process $\\{x(n)\\}$ is defined by $(2.119)$\n",
    "\n",
    "$$\n",
    "\\mathbf{R_x} = \\begin{bmatrix}\n",
    "                 r_x(0) & r_x(1)   & r_x(2)   & \\dots  & r_x(m)   \\\\\n",
    "                 r_x(1) & r_x(0)   & r_x(1)   & \\dots  & r_x(m-1) \\\\\n",
    "                 \\vdots & \\vdots   & \\vdots   & \\ddots & \\vdots   \\\\\n",
    "                 r_x(m) & r_x(m-1) & r_x(m-2) & \\dots  & r_x(0) \n",
    "               \\end{bmatrix}\n",
    "$$"
   ]
  },
  {
   "cell_type": "markdown",
   "metadata": {},
   "source": [
    "$-Answer-$:"
   ]
  },
  {
   "cell_type": "markdown",
   "metadata": {},
   "source": [
    "##### Q2.24.3.\n",
    "Show theat the variance of the white noise process $v(n)$ in $(2.126)$ is related to the autocorrelation values by the formula\n",
    "\n",
    "$$\n",
    "\\sigma_v^2 = r_x(0) + \\sum_{i=1}^{M}a_ir_x(i)\n",
    "$$"
   ]
  },
  {
   "cell_type": "markdown",
   "metadata": {},
   "source": [
    "$-Answer-$:"
   ]
  },
  {
   "cell_type": "markdown",
   "metadata": {},
   "source": [
    "---"
   ]
  },
  {
   "cell_type": "code",
   "execution_count": null,
   "metadata": {},
   "outputs": [],
   "source": []
  }
 ],
 "metadata": {
  "kernelspec": {
   "display_name": "Python 3",
   "language": "python",
   "name": "python3"
  },
  "language_info": {
   "codemirror_mode": {
    "name": "ipython",
    "version": 3
   },
   "file_extension": ".py",
   "mimetype": "text/x-python",
   "name": "python",
   "nbconvert_exporter": "python",
   "pygments_lexer": "ipython3",
   "version": "3.6.8"
  }
 },
 "nbformat": 4,
 "nbformat_minor": 2
}
